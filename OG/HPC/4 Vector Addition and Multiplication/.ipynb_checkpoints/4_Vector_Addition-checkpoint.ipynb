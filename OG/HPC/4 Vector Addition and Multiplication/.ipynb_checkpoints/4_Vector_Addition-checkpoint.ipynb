{
 "cells": [
  {
   "cell_type": "code",
   "execution_count": 1,
   "metadata": {
    "colab": {
     "base_uri": "https://localhost:8080/"
    },
    "id": "PLwiefGb-C4d",
    "outputId": "e35b765f-f595-45bd-abc8-f8faf7a942a1"
   },
   "outputs": [
    {
     "name": "stdout",
     "output_type": "stream",
     "text": [
      "Collecting git+https://github.com/afnan47/cuda.git\n",
      "  Cloning https://github.com/afnan47/cuda.git to c:\\users\\yashwardhan deshmukh\\appdata\\local\\temp\\pip-req-build-8rhvr5oq\n",
      "  Resolved https://github.com/afnan47/cuda.git to commit aac710a35f52bb78ab34d2e52517237941399eff\n",
      "  Preparing metadata (setup.py): started\n",
      "  Preparing metadata (setup.py): finished with status 'done'\n",
      "directory C:\\Users\\Yashwardhan Deshmukh\\8th sem\\CODES\\Final HPC\\4 Vector Addition and Multiplication\\src already exists\n",
      "Out bin C:\\Users\\Yashwardhan Deshmukh\\8th sem\\CODES\\Final HPC\\4 Vector Addition and Multiplication\\result.out\n"
     ]
    },
    {
     "name": "stderr",
     "output_type": "stream",
     "text": [
      "  Running command git clone --filter=blob:none --quiet https://github.com/afnan47/cuda.git 'C:\\Users\\Yashwardhan Deshmukh\\AppData\\Local\\Temp\\pip-req-build-8rhvr5oq'\n"
     ]
    }
   ],
   "source": [
    "# Set up CUDA\n",
    "#First Change runtime to GPU and run this cell\n",
    "!pip install git+https://github.com/afnan47/cuda.git\n",
    "%load_ext nvcc_plugin\n"
   ]
  },
  {
   "cell_type": "code",
   "execution_count": 16,
   "metadata": {
    "colab": {
     "base_uri": "https://localhost:8080/"
    },
    "id": "Ebqsk_UBG-be",
    "outputId": "5b106fc5-cda4-4c9d-ac84-8db18015bc2c"
   },
   "outputs": [
    {
     "name": "stdout",
     "output_type": "stream",
     "text": [
      "final result: 1.000000\n",
      "\n"
     ]
    }
   ],
   "source": [
    "%%cu\n",
    "// WARNING: DO NOT COPY THIS CODE, INSTEAD DOWNLOAD IT TO AVOID ERRORS.\n",
    "#include <iostream>\n",
    "using namespace std;\n",
    "\n",
    "__global__\n",
    "void add(int* A, int* B, int* C, int size) {\n",
    "    int tid = blockIdx.x * blockDim.x + threadIdx.x;\n",
    "\n",
    "    if (tid < size) {\n",
    "        C[tid] = A[tid] + B[tid];\n",
    "    }\n",
    "}\n",
    "\n",
    "\n",
    "void initialize(int* vector, int size) {\n",
    "    for (int i = 0; i < size; i++) {\n",
    "        vector[i] = rand() % 10;\n",
    "    }\n",
    "}\n",
    "\n",
    "void print(int* vector, int size) {\n",
    "    for (int i = 0; i < size; i++) {\n",
    "        cout << vector[i] << \" \";\n",
    "    }\n",
    "    cout << endl;\n",
    "}\n",
    "\n",
    "int main() {\n",
    "    int N = 4;\n",
    "    int* A, * B, * C;\n",
    "\n",
    "    int vectorSize = N;\n",
    "    size_t vectorBytes = vectorSize * sizeof(int);\n",
    "\n",
    "    A = new int[vectorSize];\n",
    "    B = new int[vectorSize];\n",
    "    C = new int[vectorSize];\n",
    "\n",
    "    initialize(A, vectorSize);\n",
    "    initialize(B, vectorSize);\n",
    "\n",
    "    cout << \"Vector A: \";\n",
    "    print(A, N);\n",
    "    cout << \"Vector B: \";\n",
    "    print(B, N);\n",
    "\n",
    "    int* X, * Y, * Z;\n",
    "    cudaMalloc(&X, vectorBytes);\n",
    "    cudaMalloc(&Y, vectorBytes);\n",
    "    cudaMalloc(&Z, vectorBytes);\n",
    "\n",
    "    cudaMemcpy(X, A, vectorBytes, cudaMemcpyHostToDevice);\n",
    "    cudaMemcpy(Y, B, vectorBytes, cudaMemcpyHostToDevice);\n",
    "\n",
    "    int threadsPerBlock = 256;\n",
    "    int blocksPerGrid = (N + threadsPerBlock - 1) / threadsPerBlock;\n",
    "\n",
    "    add<<<blocksPerGrid, threadsPerBlock>>>(X, Y, Z, N);\n",
    "\n",
    "    cudaMemcpy(C, Z, vectorBytes, cudaMemcpyDeviceToHost);\n",
    "\n",
    "    cout << \"Addition: \";\n",
    "    print(C, N);\n",
    "\n",
    "    delete[] A;\n",
    "    delete[] B;\n",
    "    delete[] C;\n",
    "\n",
    "    cudaFree(X);\n",
    "    cudaFree(Y);\n",
    "    cudaFree(Z);\n",
    "\n",
    "    return 0;\n",
    "}\n"
   ]
  },
  {
   "cell_type": "code",
   "execution_count": null,
   "metadata": {
    "id": "6eOwFLYHJAJe"
   },
   "outputs": [],
   "source": []
  }
 ],
 "metadata": {
  "accelerator": "GPU",
  "colab": {
   "gpuType": "T4",
   "provenance": []
  },
  "gpuClass": "standard",
  "kernelspec": {
   "display_name": "Python 3 (ipykernel)",
   "language": "python",
   "name": "python3"
  },
  "language_info": {
   "codemirror_mode": {
    "name": "ipython",
    "version": 3
   },
   "file_extension": ".py",
   "mimetype": "text/x-python",
   "name": "python",
   "nbconvert_exporter": "python",
   "pygments_lexer": "ipython3",
   "version": "3.10.9"
  }
 },
 "nbformat": 4,
 "nbformat_minor": 1
}
