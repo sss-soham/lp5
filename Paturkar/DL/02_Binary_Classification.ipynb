{
 "cells": [
  {
   "cell_type": "code",
   "execution_count": 1,
   "id": "faba410b-71f9-4bb1-8976-50b6e786c10c",
   "metadata": {},
   "outputs": [],
   "source": [
    "import numpy as np\n",
    "from keras.datasets import imdb\n",
    "from keras import models\n",
    "from keras import layers\n",
    "from keras import optimizers\n",
    "from keras import losses\n",
    "from keras import metrics\n",
    "import matplotlib.pyplot as plt\n",
    "%matplotlib inline"
   ]
  },
  {
   "cell_type": "code",
   "execution_count": 2,
   "id": "bb24dd17-174f-414b-ab09-d03ab4c6adb8",
   "metadata": {},
   "outputs": [
    {
     "name": "stdout",
     "output_type": "stream",
     "text": [
      "Downloading data from https://storage.googleapis.com/tensorflow/tf-keras-datasets/imdb.npz\n",
      "\u001b[1m17464789/17464789\u001b[0m \u001b[32m━━━━━━━━━━━━━━━━━━━━\u001b[0m\u001b[37m\u001b[0m \u001b[1m3s\u001b[0m 0us/step \n"
     ]
    }
   ],
   "source": [
    "(train_data, train_labels),(test_data, test_labels)= imdb.load_data(num_words= 10000)"
   ]
  },
  {
   "cell_type": "code",
   "execution_count": 3,
   "id": "66191ca9-0687-44a3-ab37-1b3bc8446ac3",
   "metadata": {},
   "outputs": [
    {
     "data": {
      "text/plain": [
       "np.int64(1)"
      ]
     },
     "execution_count": 3,
     "metadata": {},
     "output_type": "execute_result"
    }
   ],
   "source": [
    "train_labels[0]"
   ]
  },
  {
   "cell_type": "code",
   "execution_count": 10,
   "id": "b5252c04-68ad-486b-8abd-def79866d638",
   "metadata": {},
   "outputs": [
    {
     "data": {
      "text/plain": [
       "np.int64(0)"
      ]
     },
     "execution_count": 10,
     "metadata": {},
     "output_type": "execute_result"
    }
   ],
   "source": [
    "test_labels[0]"
   ]
  },
  {
   "cell_type": "code",
   "execution_count": 4,
   "id": "5ff9a702-b6c9-4722-89a9-b2f21a72cb26",
   "metadata": {},
   "outputs": [
    {
     "name": "stdout",
     "output_type": "stream",
     "text": [
      "<class 'list'>\n"
     ]
    },
    {
     "data": {
      "text/plain": [
       "9999"
      ]
     },
     "execution_count": 4,
     "metadata": {},
     "output_type": "execute_result"
    }
   ],
   "source": [
    "print(type([max(sequence) for sequence in train_data]))\n",
    "max([max(sequence) for sequence in train_data])"
   ]
  },
  {
   "cell_type": "code",
   "execution_count": 5,
   "id": "8e39be1e-497b-4d27-9e2d-acd4e1af49d1",
   "metadata": {},
   "outputs": [
    {
     "name": "stdout",
     "output_type": "stream",
     "text": [
      "Downloading data from https://storage.googleapis.com/tensorflow/tf-keras-datasets/imdb_word_index.json\n",
      "\u001b[1m1641221/1641221\u001b[0m \u001b[32m━━━━━━━━━━━━━━━━━━━━\u001b[0m\u001b[37m\u001b[0m \u001b[1m2s\u001b[0m 1us/step\n"
     ]
    },
    {
     "data": {
      "text/plain": [
       "\"? this film was just brilliant casting location scenery story direction everyone's really suited the part they played and you could just imagine being there robert ? is an amazing actor and now the same being director ? father came from the same scottish island as myself so i loved the fact there was a real connection with this film the witty remarks throughout the film were great it was just brilliant so much that i bought the film as soon as it was released for ? and would recommend it to everyone to watch and the fly fishing was amazing really cried at the end it was so sad and you know what they say if you cry at a film it must have been good and this definitely was also ? to the two little boy's that played the ? of norman and paul they were just brilliant children are often left out of the ? list i think because the stars that play them all grown up are such a big profile for the whole film but these children are amazing and should be praised for what they have done don't you think the whole story was so lovely because it was true and was someone's life after all that was shared with us all\""
      ]
     },
     "execution_count": 5,
     "metadata": {},
     "output_type": "execute_result"
    }
   ],
   "source": [
    "word_index= imdb.get_word_index()\n",
    "reverse_word_index= dict([(value, key) for (key, value) in word_index.items()])\n",
    "decoded_review= ' '.join([reverse_word_index.get(i-3, '?') for i in train_data[0]])\n",
    "decoded_review"
   ]
  },
  {
   "cell_type": "code",
   "execution_count": 6,
   "id": "9f082041-cb69-465f-8ddf-2c4ea057e1eb",
   "metadata": {},
   "outputs": [
    {
     "data": {
      "text/plain": [
       "88584"
      ]
     },
     "execution_count": 6,
     "metadata": {},
     "output_type": "execute_result"
    }
   ],
   "source": [
    "len(reverse_word_index)"
   ]
  },
  {
   "cell_type": "code",
   "execution_count": 13,
   "id": "c635d16f-4395-4dc1-9c59-e18f2e282126",
   "metadata": {},
   "outputs": [],
   "source": [
    "def vectorize_sequences(sequences, dimension= 10000):\n",
    "    results= np.zeros((len(sequences), dimension))\n",
    "    for i, sequence in enumerate(sequences):\n",
    "        results[i, sequence]= 1\n",
    "    return results\n",
    "X_train= vectorize_sequences(train_data)\n",
    "X_test= vectorize_sequences(test_data)"
   ]
  },
  {
   "cell_type": "code",
   "execution_count": 14,
   "id": "b7640387-e4d3-4812-b5ff-e73842867889",
   "metadata": {},
   "outputs": [
    {
     "data": {
      "text/plain": [
       "array([0., 1., 1., ..., 0., 0., 0.])"
      ]
     },
     "execution_count": 14,
     "metadata": {},
     "output_type": "execute_result"
    }
   ],
   "source": [
    "X_train[0]"
   ]
  },
  {
   "cell_type": "code",
   "execution_count": 15,
   "id": "5162ff11-00ea-4c33-a055-42650947cbe2",
   "metadata": {},
   "outputs": [
    {
     "data": {
      "text/plain": [
       "(25000, 10000)"
      ]
     },
     "execution_count": 15,
     "metadata": {},
     "output_type": "execute_result"
    }
   ],
   "source": [
    "X_train.shape"
   ]
  },
  {
   "cell_type": "code",
   "execution_count": 16,
   "id": "4f224285-35e7-4d54-8a32-10335e9a46ac",
   "metadata": {},
   "outputs": [],
   "source": [
    "y_train=np.asarray(train_labels).astype('float32')\n",
    "y_test= np.asarray(test_labels).astype('float32')"
   ]
  },
  {
   "cell_type": "code",
   "execution_count": 18,
   "id": "3a2dd196-45f8-48e5-a497-06a86d20335e",
   "metadata": {},
   "outputs": [],
   "source": [
    "from keras import Input\n",
    "\n",
    "model = models.Sequential()\n",
    "model.add(Input(shape=(10000,)))\n",
    "model.add(layers.Dense(16, activation='relu'))\n",
    "model.add(layers.Dense(16, activation='relu'))\n",
    "model.add(layers.Dense(1, activation='sigmoid'))"
   ]
  },
  {
   "cell_type": "code",
   "execution_count": 19,
   "id": "17945442-6adc-4fe5-b843-8f67f362f50e",
   "metadata": {},
   "outputs": [],
   "source": [
    "model.compile(\n",
    "    optimizer= optimizers.RMSprop(learning_rate= 0.001),\n",
    "    loss= losses.binary_crossentropy,\n",
    "    metrics= [metrics.binary_accuracy]\n",
    ")"
   ]
  },
  {
   "cell_type": "code",
   "execution_count": 20,
   "id": "d0d23811-7515-4e59-abde-e1a8107e0ef8",
   "metadata": {},
   "outputs": [],
   "source": [
    "X_val= X_train[:10000]\n",
    "partial_X_train= X_train[10000:]\n",
    "y_val= y_train[:10000]\n",
    "partial_y_train= y_train[10000:]"
   ]
  },
  {
   "cell_type": "code",
   "execution_count": 21,
   "id": "1703b7a9-904a-486d-bacf-c7acb0ed91c4",
   "metadata": {},
   "outputs": [
    {
     "name": "stdout",
     "output_type": "stream",
     "text": [
      "Epoch 1/20\n",
      "\u001b[1m30/30\u001b[0m \u001b[32m━━━━━━━━━━━━━━━━━━━━\u001b[0m\u001b[37m\u001b[0m \u001b[1m5s\u001b[0m 110ms/step - binary_accuracy: 0.7007 - loss: 0.6086 - val_binary_accuracy: 0.8699 - val_loss: 0.4129\n",
      "Epoch 2/20\n",
      "\u001b[1m30/30\u001b[0m \u001b[32m━━━━━━━━━━━━━━━━━━━━\u001b[0m\u001b[37m\u001b[0m \u001b[1m1s\u001b[0m 19ms/step - binary_accuracy: 0.8927 - loss: 0.3592 - val_binary_accuracy: 0.8846 - val_loss: 0.3193\n",
      "Epoch 3/20\n",
      "\u001b[1m30/30\u001b[0m \u001b[32m━━━━━━━━━━━━━━━━━━━━\u001b[0m\u001b[37m\u001b[0m \u001b[1m1s\u001b[0m 18ms/step - binary_accuracy: 0.9227 - loss: 0.2527 - val_binary_accuracy: 0.8745 - val_loss: 0.3124\n",
      "Epoch 4/20\n",
      "\u001b[1m30/30\u001b[0m \u001b[32m━━━━━━━━━━━━━━━━━━━━\u001b[0m\u001b[37m\u001b[0m \u001b[1m1s\u001b[0m 19ms/step - binary_accuracy: 0.9310 - loss: 0.2054 - val_binary_accuracy: 0.8876 - val_loss: 0.2767\n",
      "Epoch 5/20\n",
      "\u001b[1m30/30\u001b[0m \u001b[32m━━━━━━━━━━━━━━━━━━━━\u001b[0m\u001b[37m\u001b[0m \u001b[1m1s\u001b[0m 20ms/step - binary_accuracy: 0.9492 - loss: 0.1643 - val_binary_accuracy: 0.8846 - val_loss: 0.2912\n",
      "Epoch 6/20\n",
      "\u001b[1m30/30\u001b[0m \u001b[32m━━━━━━━━━━━━━━━━━━━━\u001b[0m\u001b[37m\u001b[0m \u001b[1m1s\u001b[0m 21ms/step - binary_accuracy: 0.9590 - loss: 0.1370 - val_binary_accuracy: 0.8847 - val_loss: 0.2952\n",
      "Epoch 7/20\n",
      "\u001b[1m30/30\u001b[0m \u001b[32m━━━━━━━━━━━━━━━━━━━━\u001b[0m\u001b[37m\u001b[0m \u001b[1m1s\u001b[0m 17ms/step - binary_accuracy: 0.9621 - loss: 0.1204 - val_binary_accuracy: 0.8784 - val_loss: 0.3033\n",
      "Epoch 8/20\n",
      "\u001b[1m30/30\u001b[0m \u001b[32m━━━━━━━━━━━━━━━━━━━━\u001b[0m\u001b[37m\u001b[0m \u001b[1m1s\u001b[0m 18ms/step - binary_accuracy: 0.9677 - loss: 0.1052 - val_binary_accuracy: 0.8852 - val_loss: 0.3052\n",
      "Epoch 9/20\n",
      "\u001b[1m30/30\u001b[0m \u001b[32m━━━━━━━━━━━━━━━━━━━━\u001b[0m\u001b[37m\u001b[0m \u001b[1m1s\u001b[0m 17ms/step - binary_accuracy: 0.9782 - loss: 0.0857 - val_binary_accuracy: 0.8829 - val_loss: 0.3233\n",
      "Epoch 10/20\n",
      "\u001b[1m30/30\u001b[0m \u001b[32m━━━━━━━━━━━━━━━━━━━━\u001b[0m\u001b[37m\u001b[0m \u001b[1m1s\u001b[0m 18ms/step - binary_accuracy: 0.9814 - loss: 0.0770 - val_binary_accuracy: 0.8691 - val_loss: 0.3654\n",
      "Epoch 11/20\n",
      "\u001b[1m30/30\u001b[0m \u001b[32m━━━━━━━━━━━━━━━━━━━━\u001b[0m\u001b[37m\u001b[0m \u001b[1m1s\u001b[0m 18ms/step - binary_accuracy: 0.9839 - loss: 0.0661 - val_binary_accuracy: 0.8792 - val_loss: 0.3677\n",
      "Epoch 12/20\n",
      "\u001b[1m30/30\u001b[0m \u001b[32m━━━━━━━━━━━━━━━━━━━━\u001b[0m\u001b[37m\u001b[0m \u001b[1m1s\u001b[0m 19ms/step - binary_accuracy: 0.9888 - loss: 0.0538 - val_binary_accuracy: 0.8762 - val_loss: 0.3791\n",
      "Epoch 13/20\n",
      "\u001b[1m30/30\u001b[0m \u001b[32m━━━━━━━━━━━━━━━━━━━━\u001b[0m\u001b[37m\u001b[0m \u001b[1m1s\u001b[0m 20ms/step - binary_accuracy: 0.9898 - loss: 0.0475 - val_binary_accuracy: 0.8762 - val_loss: 0.4100\n",
      "Epoch 14/20\n",
      "\u001b[1m30/30\u001b[0m \u001b[32m━━━━━━━━━━━━━━━━━━━━\u001b[0m\u001b[37m\u001b[0m \u001b[1m1s\u001b[0m 17ms/step - binary_accuracy: 0.9927 - loss: 0.0396 - val_binary_accuracy: 0.8762 - val_loss: 0.4204\n",
      "Epoch 15/20\n",
      "\u001b[1m30/30\u001b[0m \u001b[32m━━━━━━━━━━━━━━━━━━━━\u001b[0m\u001b[37m\u001b[0m \u001b[1m1s\u001b[0m 20ms/step - binary_accuracy: 0.9931 - loss: 0.0343 - val_binary_accuracy: 0.8739 - val_loss: 0.4570\n",
      "Epoch 16/20\n",
      "\u001b[1m30/30\u001b[0m \u001b[32m━━━━━━━━━━━━━━━━━━━━\u001b[0m\u001b[37m\u001b[0m \u001b[1m1s\u001b[0m 18ms/step - binary_accuracy: 0.9948 - loss: 0.0277 - val_binary_accuracy: 0.8738 - val_loss: 0.4632\n",
      "Epoch 17/20\n",
      "\u001b[1m30/30\u001b[0m \u001b[32m━━━━━━━━━━━━━━━━━━━━\u001b[0m\u001b[37m\u001b[0m \u001b[1m1s\u001b[0m 19ms/step - binary_accuracy: 0.9959 - loss: 0.0240 - val_binary_accuracy: 0.8732 - val_loss: 0.4884\n",
      "Epoch 18/20\n",
      "\u001b[1m30/30\u001b[0m \u001b[32m━━━━━━━━━━━━━━━━━━━━\u001b[0m\u001b[37m\u001b[0m \u001b[1m1s\u001b[0m 19ms/step - binary_accuracy: 0.9980 - loss: 0.0201 - val_binary_accuracy: 0.8723 - val_loss: 0.5097\n",
      "Epoch 19/20\n",
      "\u001b[1m30/30\u001b[0m \u001b[32m━━━━━━━━━━━━━━━━━━━━\u001b[0m\u001b[37m\u001b[0m \u001b[1m1s\u001b[0m 19ms/step - binary_accuracy: 0.9982 - loss: 0.0170 - val_binary_accuracy: 0.8721 - val_loss: 0.5346\n",
      "Epoch 20/20\n",
      "\u001b[1m30/30\u001b[0m \u001b[32m━━━━━━━━━━━━━━━━━━━━\u001b[0m\u001b[37m\u001b[0m \u001b[1m1s\u001b[0m 18ms/step - binary_accuracy: 0.9989 - loss: 0.0145 - val_binary_accuracy: 0.8709 - val_loss: 0.5575\n"
     ]
    }
   ],
   "source": [
    "history= model.fit(\n",
    "    partial_X_train,\n",
    "    partial_y_train,\n",
    "    epochs= 20,\n",
    "    batch_size= 512,\n",
    "    validation_data=(X_val, y_val)\n",
    ")"
   ]
  },
  {
   "cell_type": "code",
   "execution_count": 22,
   "id": "3f3e6c2d-8be6-4dc2-8a24-1c022453d693",
   "metadata": {},
   "outputs": [
    {
     "data": {
      "text/plain": [
       "dict_keys(['binary_accuracy', 'loss', 'val_binary_accuracy', 'val_loss'])"
      ]
     },
     "execution_count": 22,
     "metadata": {},
     "output_type": "execute_result"
    }
   ],
   "source": [
    "history_dict= history.history\n",
    "history_dict.keys()"
   ]
  },
  {
   "cell_type": "code",
   "execution_count": 23,
   "id": "c6f29705-d489-4f1a-9c56-52303ec27932",
   "metadata": {},
   "outputs": [
    {
     "data": {
      "image/png": "[encoded data removed]",
      "text/plain": [
       "<Figure size 640x480 with 1 Axes>"
      ]
     },
     "metadata": {},
     "output_type": "display_data"
    }
   ],
   "source": [
    "loss_values= history_dict['loss']\n",
    "val_loss_values= history_dict['val_loss']\n",
    "epochs= range(1, len(loss_values) +1)\n",
    "plt.plot(epochs, loss_values, 'g', label=\"Training Loss\")\n",
    "plt.plot(epochs, val_loss_values, 'b', label=\"Validation Loss\")\n",
    "plt.title(\"Training and Validation Loss\")\n",
    "plt.xlabel=('Epochs')\n",
    "plt.ylabel=('Loss Value')\n",
    "plt.legend()\n",
    "plt.show()"
   ]
  },
  {
   "cell_type": "markdown",
   "id": "7210b213",
   "metadata": {},
   "source": [
    "\n",
    "# IMDb Sentiment Classification using Keras\n",
    "\n",
    "## ✅ 1. General Overview of the Code\n",
    "\n",
    "This project trains a neural network model to perform **binary sentiment classification** on movie reviews from the IMDb dataset. It predicts whether a given review is **positive or negative**.\n",
    "\n",
    "### Key Steps:\n",
    "1. **Data Loading & Preprocessing**\n",
    "   - Loads the IMDb dataset with the top 10,000 most frequent words.\n",
    "   - Reviews are integer sequences representing word indices.\n",
    "   - Sequences are vectorized into binary vectors (bag-of-words).\n",
    "\n",
    "2. **Model Definition**\n",
    "   - A `Sequential` neural network with two dense hidden layers using ReLU activation and one output layer with sigmoid activation.\n",
    "\n",
    "3. **Compilation**\n",
    "   - Optimizer: `RMSprop`\n",
    "   - Loss: `binary_crossentropy`\n",
    "   - Metric: `binary_accuracy`\n",
    "\n",
    "4. **Training**\n",
    "   - Training set is split into a smaller training set and a validation set.\n",
    "   - Model is trained for 20 epochs using a batch size of 512.\n",
    "\n",
    "5. **Visualization**\n",
    "   - Plots training vs validation loss to observe overfitting.\n",
    "\n",
    "---\n",
    "\n",
    "## ✅ 2. Explanation of Key Technologies Used\n",
    "\n",
    "### 🧠 Keras\n",
    "- **What it is**: High-level API for building and training neural networks, running on top of TensorFlow.\n",
    "- **Why used**: Simplifies deep learning model creation, experimentation, and deployment.\n",
    "- **Used for**: Model building (`Sequential`), layers (`Dense`), training (`fit`), and evaluation.\n",
    "\n",
    "---\n",
    "\n",
    "### 📊 IMDb Dataset (`keras.datasets.imdb`)\n",
    "- **What it is**: A dataset of 50,000 movie reviews, labeled as positive or negative.\n",
    "- **Why used**: Standard benchmark dataset for text classification tasks.\n",
    "- **Usage**:\n",
    "  ```python\n",
    "  (train_data, train_labels), (test_data, test_labels) = imdb.load_data(num_words=10000)\n",
    "  ```\n",
    "\n",
    "---\n",
    "\n",
    "### 🔡 Tokenization & Vectorization\n",
    "\n",
    "#### Tokenization:\n",
    "- Words are converted into integer indices based on frequency in the dataset.\n",
    "\n",
    "#### Vectorization:\n",
    "- Converts sequences into binary vectors of length 10,000 (bag-of-words).\n",
    "- `1` indicates the word is present; `0` indicates absence.\n",
    "\n",
    "#### Why this approach?\n",
    "- Enables fixed-size inputs for the neural network.\n",
    "- Simplifies model training and understanding.\n",
    "  \n",
    "**Alternative Methods**:\n",
    "- **Embedding layers**: For dense, low-dimensional word representations.\n",
    "- **Recurrent/Transformer models**: Preserve word order and context.\n",
    "\n",
    "---\n",
    "\n",
    "### 🧮 Neural Network Architecture\n",
    "\n",
    "```python\n",
    "model = models.Sequential()\n",
    "model.add(Input(shape=(10000,)))\n",
    "model.add(Dense(16, activation='relu'))\n",
    "model.add(Dense(16, activation='relu'))\n",
    "model.add(Dense(1, activation='sigmoid'))\n",
    "```\n",
    "\n",
    "- **Input**: 10,000-dimension binary vector.\n",
    "- **Hidden Layers**: Two layers, 16 units, ReLU activation.\n",
    "- **Output**: One neuron, sigmoid activation → binary classification.\n",
    "\n",
    "---\n",
    "\n",
    "### 🔧 Loss, Optimizer, Metrics\n",
    "\n",
    "```python\n",
    "model.compile(\n",
    "    optimizer=RMSprop(learning_rate=0.001),\n",
    "    loss='binary_crossentropy',\n",
    "    metrics=['binary_accuracy']\n",
    ")\n",
    "```\n",
    "\n",
    "- **Loss**: `binary_crossentropy` — appropriate for binary classification.\n",
    "- **Optimizer**: `RMSprop` — adaptive learning rate.\n",
    "- **Metrics**: `binary_accuracy` — evaluates correctness of predictions.\n",
    "\n",
    "---\n",
    "\n",
    "### 🧪 Validation Set\n",
    "\n",
    "- First 10,000 samples of training data are used as a **validation set**.\n",
    "- Helps monitor model generalization and avoid overfitting.\n",
    "\n",
    "---\n",
    "\n",
    "### 📈 Loss Curve Visualization\n",
    "\n",
    "```python\n",
    "plt.plot(epochs, loss_values, 'g', label=\"Training Loss\")\n",
    "plt.plot(epochs, val_loss_values, 'b', label=\"Validation Loss\")\n",
    "```\n",
    "\n",
    "- Helps identify overfitting: Validation loss increases while training loss decreases.\n",
    "\n",
    "---\n",
    "\n",
    "## ✅ Summary\n",
    "\n",
    "| Component     | Description                                      |\n",
    "|---------------|--------------------------------------------------|\n",
    "| Dataset        | IMDb movie reviews (binary: pos/neg)             |\n",
    "| Vectorization  | Bag-of-words binary vector (length 10,000)       |\n",
    "| Model          | Sequential MLP with 2 hidden layers (ReLU)       |\n",
    "| Output         | Sigmoid layer for binary classification          |\n",
    "| Optimizer      | RMSprop                                          |\n",
    "| Loss Function  | Binary Crossentropy                              |\n",
    "| Metric         | Binary Accuracy                                  |\n",
    "| Visualization  | Training vs Validation Loss Curve                |\n",
    "\n",
    "---\n",
    "\n",
    "## ✅ Optional Extensions\n",
    "\n",
    "- Replace vectorized inputs with an **Embedding layer** for dense word representation.\n",
    "- Use **LSTM** or **GRU** layers to capture sequential context.\n",
    "- Experiment with **dropout**, **batch normalization**, or **early stopping** to improve performance.\n",
    "\n",
    "---\n"
   ]
  }
 ],
 "metadata": {
  "kernelspec": {
   "display_name": "Python 3 (ipykernel)",
   "language": "python",
   "name": "python3"
  },
  "language_info": {
   "codemirror_mode": {
    "name": "ipython",
    "version": 3
   },
   "file_extension": ".py",
   "mimetype": "text/x-python",
   "name": "python",
   "nbconvert_exporter": "python",
   "pygments_lexer": "ipython3",
   "version": "3.11.9"
  }
 },
 "nbformat": 4,
 "nbformat_minor": 5
}
